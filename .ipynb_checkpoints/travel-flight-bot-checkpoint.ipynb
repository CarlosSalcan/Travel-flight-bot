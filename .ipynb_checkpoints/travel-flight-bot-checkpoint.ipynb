{
 "cells": [
  {
   "cell_type": "markdown",
   "metadata": {},
   "source": [
    "# **Librerias - Dependencias**"
   ]
  },
  {
   "cell_type": "code",
   "execution_count": null,
   "metadata": {},
   "outputs": [],
   "source": [
    "!pip install num2words\n",
    "!pip install word2number\n",
    "!pip install spacy\n",
    "!python -m spacy download es_core_news_sm\n",
    "!pip install geonamescache\n",
    "!pip install pyttsx3\n",
    "!pip install gtts\n",
    "!pip install sounddevice numpy scipy"
   ]
  },
  {
   "cell_type": "code",
   "execution_count": null,
   "metadata": {},
   "outputs": [],
   "source": [
    "import re\n",
    "import time\n",
    "import nltk\n",
    "import json\n",
    "import pyttsx3\n",
    "import gtts\n",
    "from gtts import gTTS\n",
    "from IPython.display import Audio\n",
    "import sys\n",
    "import os\n",
    "import spacy\n",
    "import requests\n",
    "import unicodedata\n",
    "import geonamescache\n",
    "from word2number import w2n\n",
    "from num2words import num2words\n",
    "from sklearn.feature_extraction.text import CountVectorizer"
   ]
  },
  {
   "cell_type": "markdown",
   "metadata": {},
   "source": [
    "# **CORPUS**"
   ]
  },
  {
   "cell_type": "code",
   "execution_count": null,
   "metadata": {},
   "outputs": [],
   "source": [
    "def cargar_corpus():\n",
    "    \"\"\"Carga el corpus de entrenamiento y separa ciudades/paises de aerolíneas.\"\"\"\n",
    "    with open(archivo_corpus, \"r\", encoding=\"utf-8\") as f:\n",
    "        corpus = json.load(f)\n",
    "\n",
    "    ciudades_paises = set()\n",
    "    aerolineas = set()\n",
    "\n",
    "    for oracion in corpus:\n",
    "        for palabra, etiqueta in oracion:\n",
    "            if etiqueta == \"np000g0\":  # Nombre propio (Ciudad/País)\n",
    "                ciudades_paises.add(palabra)\n",
    "            elif etiqueta == \"npcso00\":  # Entidad (Aerolínea)\n",
    "                aerolineas.add(palabra)\n",
    "\n",
    "    return ciudades_paises, aerolineas"
   ]
  },
  {
   "cell_type": "code",
   "execution_count": null,
   "metadata": {},
   "outputs": [],
   "source": [
    "def cargar_frases(archivo_frases):\n",
    "    with open(archivo_frases, \"r\", encoding=\"utf-8\") as f:\n",
    "    return json.load(f)"
   ]
  },
  {
   "cell_type": "markdown",
   "metadata": {},
   "source": [
    "# **CODIGO IATA**"
   ]
  },
  {
   "cell_type": "code",
   "execution_count": null,
   "metadata": {},
   "outputs": [],
   "source": [
    "def obtener_codigo_iata(ciudad):\n",
    "    \"\"\"Consulta la API para obtener el código IATA de una ciudad.\"\"\"\n",
    "    url = \"https://www.air-port-codes.com/api/v1/multi\"\n",
    "    headers = {\n",
    "        \"APC-Auth\": \"APY_KEY\",\n",
    "        \"APC-Auth-Secret\": \"APY_SECRET\"\n",
    "    }\n",
    "    params = {\"term\": ciudad, \"limit\": 1}\n",
    "\n",
    "    try:\n",
    "        respuesta = requests.get(url, headers=headers, params=params)\n",
    "        datos = respuesta.json()\n",
    "\n",
    "        if respuesta.status_code == 200 and datos.get(\"airports\"):\n",
    "            return datos[\"airports\"][0][\"iata\"]  # Retornar código IATA\n",
    "        else:\n",
    "            print(f\"⚠ No se encontró IATA para {ciudad}\")\n",
    "            return None\n",
    "\n",
    "    except Exception as e:\n",
    "        print(f\"Error al consultar la API para {ciudad}: {str(e)}\")\n",
    "        return None"
   ]
  },
  {
   "cell_type": "markdown",
   "metadata": {},
   "source": [
    "# **FECHA**"
   ]
  },
  {
   "cell_type": "code",
   "execution_count": null,
   "metadata": {},
   "outputs": [],
   "source": [
    "# Lista de meses en español\n",
    "MESES = {\n",
    "    \"enero\", \"febrero\", \"marzo\", \"abril\", \"mayo\", \"junio\",\n",
    "    \"julio\", \"agosto\", \"septiembre\", \"octubre\", \"noviembre\", \"diciembre\"\n",
    "}\n",
    "\n",
    "def extraer_fechas(texto):\n",
    "    \"\"\"Extrae fechas en formatos como '25 de Agosto' o solo meses.\"\"\"\n",
    "    fechas = []\n",
    "\n",
    "    # 1. Buscar fechas completas con día y mes (ej. '25 de Agosto')\n",
    "    patron_fecha = r\"(\\d{1,2}) de (\" + \"|\".join(MESES) + r\")\"\n",
    "    for match in re.findall(patron_fecha, texto, re.IGNORECASE):\n",
    "        dia, mes = match\n",
    "        fechas.append(f\"{dia} de {mes.capitalize()}\")  # Guardamos con formato correcto\n",
    "\n",
    "    # 2. Buscar solo meses (ej. 'en Septiembre')\n",
    "    for palabra in texto.split():\n",
    "        if palabra.lower() in MESES and palabra.lower() not in [f.split()[-1].lower() for f in fechas]:\n",
    "            fechas.append(palabra.capitalize())  # Guardamos el mes si no estaba ya registrado\n",
    "\n",
    "    return fechas"
   ]
  },
  {
   "cell_type": "markdown",
   "metadata": {},
   "source": [
    "# **CANTIDAD BILLETES**"
   ]
  },
  {
   "cell_type": "code",
   "execution_count": null,
   "metadata": {},
   "outputs": [],
   "source": [
    "def cargar_palabras_a_numeros(archivo_numeros):\n",
    "    palabras_a_numeros = {}\n",
    "\n",
    "    with open(archivo_numeros, \"r\", encoding=\"utf-8\") as f:\n",
    "        for linea in f:\n",
    "            linea = linea.strip()\n",
    "            if not linea:  # Ignorar líneas vacías\n",
    "                continue\n",
    "            # Ajuste para manejar frases de varias palabras entre comillas\n",
    "            match = re.match(r'\"([a-záéíóú\\s]+)\"\\s(\\d+)', linea)\n",
    "            if match:\n",
    "                palabra = match.group(1).lower().strip()  # Captura la frase numérica\n",
    "                numero = int(match.group(2))  # Captura el número\n",
    "                palabras_a_numeros[palabra] = numero\n",
    "            else:\n",
    "                print(f\"Advertencia: línea malformada o vacía ignorada: {linea}\")\n",
    "\n",
    "    return palabras_a_numeros"
   ]
  },
  {
   "cell_type": "code",
   "execution_count": null,
   "metadata": {},
   "outputs": [],
   "source": [
    "def extraer_cantidad_billetes(texto, palabras_a_numeros):\n",
    "    \"\"\"Busca la cantidad de billetes en números o palabras dentro del texto.\"\"\"\n",
    "\n",
    "    # 1: Buscar si hay un número explícito en la frase (ej. \"42 billetes\")\n",
    "    matches = re.findall(r\"(\\d{1,3})\\s*(billetes?|boletos?|pasajes?)\", texto, re.IGNORECASE)\n",
    "\n",
    "    for match in matches:\n",
    "        numero, _ = match\n",
    "        if numero:\n",
    "            return int(numero)  # Si encontramos un número explícito, lo retornamos inmediatamente\n",
    "\n",
    "    # 2: Si no hay número, buscar nombres de números en el texto\n",
    "    for palabra_numero in sorted(palabras_a_numeros.keys(), key=len, reverse=True):\n",
    "        if palabra_numero in texto.lower():\n",
    "            return palabras_a_numeros[palabra_numero]  # Devolver el número correspondiente\n",
    "\n",
    "    # 3: Si no encontramos nada, asumimos 1 billete por defecto\n",
    "    return 1"
   ]
  },
  {
   "cell_type": "markdown",
   "metadata": {},
   "source": [
    "# **Origen, Destino**"
   ]
  },
  {
   "cell_type": "code",
   "execution_count": null,
   "metadata": {},
   "outputs": [],
   "source": [
    "palabras_origen = ['de', 'desde', 'salida', 'billete', 'origen']\n",
    "palabras_destino = ['a', 'para', 'llegada', 'destino', 'hasta']\n",
    "\n",
    "def detectar_origen_destino(texto, lista_ciudades):\n",
    "    \"\"\"\n",
    "    Detecta el origen y destino en una búsqueda de vuelos.\n",
    "\n",
    "    Parámetros:\n",
    "    - texto (str): Frase ingresada por el usuario.\n",
    "    - lista_ciudades (list): Lista de nombres de ciudades.\n",
    "\n",
    "    Retorna:\n",
    "    - origen (str): Ciudad de origen detectada (o None si no se encuentra).\n",
    "    - destino (str): Ciudad de destino detectada (o None si no se encuentra).\n",
    "    \"\"\"\n",
    "    texto = texto.lower()\n",
    "    patron_ciudad = r'\\b(?:' + '|'.join(re.escape(ciudad.lower()) for ciudad in lista_ciudades) + r')\\b'\n",
    "    ciudades_encontradas = re.findall(patron_ciudad, texto)\n",
    "\n",
    "    if not ciudades_encontradas:\n",
    "        return None, None\n",
    "\n",
    "    origen, destino = None, None\n",
    "\n",
    "    for ciudad in ciudades_encontradas:\n",
    "        ciudad_regex = re.escape(ciudad)\n",
    "\n",
    "        # Buscar si hay palabra clave antes de la ciudad\n",
    "        if re.search(r'\\b(' + '|'.join(palabras_origen) + r')\\s+' + ciudad_regex, texto):\n",
    "            origen = ciudad\n",
    "        elif re.search(r'\\b(' + '|'.join(palabras_destino) + r')\\s+' + ciudad_regex, texto):\n",
    "            destino = ciudad\n",
    "\n",
    "    # Si solo hay una ciudad, asumir que es destino\n",
    "    if len(ciudades_encontradas) == 1:\n",
    "        destino = ciudades_encontradas[0]\n",
    "\n",
    "    # Si hay dos ciudades y no se detectaron palabras clave, asumir la primera como origen\n",
    "    elif len(ciudades_encontradas) == 2:\n",
    "        if not origen and not destino:\n",
    "            origen, destino = ciudades_encontradas[0], ciudades_encontradas[1]\n",
    "\n",
    "    return origen, destino"
   ]
  },
  {
   "cell_type": "markdown",
   "metadata": {},
   "source": [
    "# **AEROLINEA**"
   ]
  },
  {
   "cell_type": "code",
   "execution_count": null,
   "metadata": {},
   "outputs": [],
   "source": [
    "def identificar_aerolinea(texto, aerolineas):\n",
    "    # Usamos spaCy para extraer entidades nombradas\n",
    "    doc = nlp(texto)\n",
    "\n",
    "    # Buscar aerolíneas mencionadas usando las entidades de spaCy (nombres propios etiquetados)\n",
    "    aerolineas_spacy = {ent.text for ent in doc.ents if ent.text in aerolineas}\n",
    "\n",
    "    # También buscar aerolíneas usando expresiones regulares\n",
    "    regex_pattern = r'\\b(?:' + '|'.join(map(re.escape, aerolineas)) + r')\\b'\n",
    "    aerolineas_regex = set(re.findall(regex_pattern, texto, re.IGNORECASE))\n",
    "\n",
    "    # Unir los resultados de spaCy y regex\n",
    "    aerolineas_encontradas = list(aerolineas_spacy.union(aerolineas_regex))\n",
    "\n",
    "    return aerolineas_encontradas"
   ]
  },
  {
   "cell_type": "markdown",
   "metadata": {},
   "source": [
    "# **VOZ**"
   ]
  },
  {
   "cell_type": "code",
   "execution_count": null,
   "metadata": {},
   "outputs": [],
   "source": [
    "import os\n",
    "import json\n",
    "import gtts\n",
    "from IPython.display import Audio\n",
    "\n",
    "def speak(texto):\n",
    "    \"\"\"Convierte texto en voz y lo reproduce en Google Colab.\"\"\"\n",
    "    tts = gtts.gTTS(texto, lang=\"es\")\n",
    "    tts.save(\"mensaje.mp3\")  # Guarda el audio temporalmente\n",
    "    return Audio(\"mensaje.mp3\", autoplay=True)  # Reproduce el audio"
   ]
  },
  {
   "cell_type": "markdown",
   "metadata": {},
   "source": [
    "# **EJECUCION**"
   ]
  },
  {
   "cell_type": "code",
   "execution_count": null,
   "metadata": {},
   "outputs": [],
   "source": [
    "def procesar_texto(texto, ciudades_paises, aerolineas, palabras_a_numeros):\n",
    "    \"\"\"Extrae ciudades/paises, obtiene sus códigos IATA, también detecta fechas y cantidad de billetes.\"\"\"\n",
    "    doc = nlp(texto)\n",
    "\n",
    "    # 1️. Buscar ciudades con spaCy\n",
    "    lugares_spacy = {ent.text for ent in doc.ents if ent.text in ciudades_paises}\n",
    "\n",
    "    # 2️. Buscar ciudades con regex usando la lista de ciudades/paises\n",
    "    regex_pattern = r'\\b(?:' + '|'.join(map(re.escape, ciudades_paises)) + r')\\b'\n",
    "    lugares_regex = set(re.findall(regex_pattern, texto, re.IGNORECASE))\n",
    "\n",
    "    # 3️. Unir las ciudades detectadas de spaCy y regex\n",
    "    lugares = list(lugares_spacy.union(lugares_regex))\n",
    "\n",
    "    # Imprimir depuración de ciudades detectadas\n",
    "    print(f\"Ciudades detectadas: {lugares}\")\n",
    "    print(\"-\" * 50)\n",
    "\n",
    "    # 4️. Detectar origen y destino\n",
    "    origen, destino = detectar_origen_destino(texto, lugares)\n",
    "\n",
    "    # Obtener códigos IATA para las ciudades detectadas\n",
    "    codigos_iata = {}\n",
    "    for ciudad in lugares:\n",
    "        iata = obtener_codigo_iata(ciudad)\n",
    "        if iata:\n",
    "            codigos_iata[ciudad] = iata\n",
    "\n",
    "     # 5️. Identificar las aerolíneas\n",
    "    aerolineas_encontradas = identificar_aerolinea(texto, aerolineas)\n",
    "\n",
    "    # Asumimos que hay solo una aerolínea encontrada\n",
    "    aerolinea = aerolineas_encontradas[0] if aerolineas_encontradas else None\n",
    "\n",
    "    # Definir la cantidad de billetes\n",
    "    cantidad = extraer_cantidad_billetes(texto, palabras_a_numeros) if extraer_cantidad_billetes(texto, palabras_a_numeros) else None\n",
    "\n",
    "    # Construir el resultado en el formato solicitado\n",
    "    resultado = {\n",
    "        \"origen\": origen ,\n",
    "        \"destino\": destino,\n",
    "        \"fecha\": extraer_fechas(texto)[0] if extraer_fechas(texto) else None,\n",
    "        \"cantidad\": str(cantidad) if cantidad else None,\n",
    "        \"aerolínea\": aerolinea,\n",
    "        \"codigos_iata\": codigos_iata  # Aquí añadimos los códigos IATA\n",
    "    }\n",
    "\n",
    "    return resultado"
   ]
  },
  {
   "cell_type": "markdown",
   "metadata": {},
   "source": [
    "# **Asistente**"
   ]
  },
  {
   "cell_type": "code",
   "execution_count": null,
   "metadata": {},
   "outputs": [],
   "source": [
    "ciudades_paises, aerolineas = cargar_corpus()\n",
    "palabras_a_numeros = cargar_palabras_a_numeros(archivo_numeros)\n",
    "\n",
    "while True:\n",
    "    frase = input(\"Hola, bienvenido a Sky2travel. ¿Cómo te puedo ayudar?: \").strip()\n",
    "\n",
    "    if not frase:\n",
    "        print(\"Por favor, ingresa una solicitud válida.\")\n",
    "        continue\n",
    "\n",
    "    if frase.lower() == 'salir':\n",
    "        print(\"Gracias por usar Sky2travel. ¡Hasta la próxima! 😊\")\n",
    "        break\n",
    "\n",
    "    # Procesar la frase\n",
    "    resultado = procesar_texto(frase, ciudades_paises, aerolineas, palabras_a_numeros)\n",
    "\n",
    "    origen = resultado.get(\"origen\", \"origen desconocido\")\n",
    "    destino = resultado.get(\"destino\", \"destino desconocido\")\n",
    "    fecha = resultado.get(\"fecha\", \"una fecha desconocida\")\n",
    "    aerolinea = resultado.get(\"aerolínea\", \"cualquier aerolínea\")\n",
    "\n",
    "    # Construir el mensaje de voz personalizado\n",
    "    mensaje = f\"Ok, perfecto. Comienzo la búsqueda de tu viaje a {destino} desde {origen} para la fecha {fecha} con {aerolinea}.\"\n",
    "\n",
    "    # Esperar 2 segundos antes del mensaje por voz\n",
    "    time.sleep(3)\n",
    "\n",
    "    # Mostrar y reproducir el mensaje de voz\n",
    "    display(speak(mensaje))\n",
    "\n",
    "    # Esperar 3 segundos antes de mostrar los resultados JSON\n",
    "    time.sleep(15)\n",
    "\n",
    "    # Mostrar el JSON estructurado\n",
    "    print(json.dumps(resultado, indent=4, ensure_ascii=False))\n",
    "    print(\"-\" * 40)"
   ]
  }
 ],
 "metadata": {
  "kernelspec": {
   "display_name": "Python 3",
   "language": "python",
   "name": "python3"
  },
  "language_info": {
   "name": "python",
   "version": "3.11.9"
  }
 },
 "nbformat": 4,
 "nbformat_minor": 2
}
