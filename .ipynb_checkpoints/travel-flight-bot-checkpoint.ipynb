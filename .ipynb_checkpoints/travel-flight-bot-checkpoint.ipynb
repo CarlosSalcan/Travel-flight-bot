{
 "cells": [
  {
   "cell_type": "markdown",
   "metadata": {},
   "source": [
    "# **Librerias - Dependencias**"
   ]
  },
  {
   "cell_type": "code",
   "execution_count": null,
   "metadata": {},
   "outputs": [],
   "source": [
    "import json"
   ]
  },
  {
   "cell_type": "markdown",
   "metadata": {},
   "source": [
    "# **CORPUS**"
   ]
  },
  {
   "cell_type": "code",
   "execution_count": null,
   "metadata": {},
   "outputs": [],
   "source": [
    "def cargar_corpus():\n",
    "    \"\"\"Carga el corpus de entrenamiento y separa ciudades/paises de aerolíneas.\"\"\"\n",
    "    with open(archivo_corpus, \"r\", encoding=\"utf-8\") as f:\n",
    "        corpus = json.load(f)\n",
    "\n",
    "    ciudades_paises = set()\n",
    "    aerolineas = set()\n",
    "\n",
    "    for oracion in corpus:\n",
    "        for palabra, etiqueta in oracion:\n",
    "            if etiqueta == \"np000g0\":  # Nombre propio (Ciudad/País)\n",
    "                ciudades_paises.add(palabra)\n",
    "            elif etiqueta == \"npcso00\":  # Entidad (Aerolínea)\n",
    "                aerolineas.add(palabra)\n",
    "\n",
    "    return ciudades_paises, aerolineas"
   ]
  },
  {
   "cell_type": "code",
   "execution_count": null,
   "metadata": {},
   "outputs": [],
   "source": [
    "def cargar_frases(archivo_frases):\n",
    "    with open(archivo_frases, \"r\", encoding=\"utf-8\") as f:\n",
    "    return json.load(f)"
   ]
  }
 ],
 "metadata": {
  "kernelspec": {
   "display_name": "Python 3",
   "language": "python",
   "name": "python3"
  },
  "language_info": {
   "name": "python",
   "version": "3.11.9"
  }
 },
 "nbformat": 4,
 "nbformat_minor": 2
}
