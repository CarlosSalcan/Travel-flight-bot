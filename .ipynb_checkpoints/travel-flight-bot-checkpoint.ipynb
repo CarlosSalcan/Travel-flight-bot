{
 "cells": [
  {
   "cell_type": "markdown",
   "metadata": {},
   "source": [
    "# **Librerias - Dependencias**"
   ]
  },
  {
   "cell_type": "code",
   "execution_count": null,
   "metadata": {},
   "outputs": [],
   "source": [
    "import json"
   ]
  },
  {
   "cell_type": "markdown",
   "metadata": {},
   "source": [
    "# **CORPUS**"
   ]
  },
  {
   "cell_type": "code",
   "execution_count": null,
   "metadata": {},
   "outputs": [],
   "source": [
    "def cargar_corpus():\n",
    "    \"\"\"Carga el corpus de entrenamiento y separa ciudades/paises de aerolíneas.\"\"\"\n",
    "    with open(archivo_corpus, \"r\", encoding=\"utf-8\") as f:\n",
    "        corpus = json.load(f)\n",
    "\n",
    "    ciudades_paises = set()\n",
    "    aerolineas = set()\n",
    "\n",
    "    for oracion in corpus:\n",
    "        for palabra, etiqueta in oracion:\n",
    "            if etiqueta == \"np000g0\":  # Nombre propio (Ciudad/País)\n",
    "                ciudades_paises.add(palabra)\n",
    "            elif etiqueta == \"npcso00\":  # Entidad (Aerolínea)\n",
    "                aerolineas.add(palabra)\n",
    "\n",
    "    return ciudades_paises, aerolineas"
   ]
  },
  {
   "cell_type": "code",
   "execution_count": null,
   "metadata": {},
   "outputs": [],
   "source": [
    "def cargar_frases(archivo_frases):\n",
    "    with open(archivo_frases, \"r\", encoding=\"utf-8\") as f:\n",
    "    return json.load(f)"
   ]
  },
  {
   "cell_type": "markdown",
   "metadata": {},
   "source": [
    "# **CODIGO IATA**"
   ]
  },
  {
   "cell_type": "code",
   "execution_count": null,
   "metadata": {},
   "outputs": [],
   "source": [
    "def obtener_codigo_iata(ciudad):\n",
    "    \"\"\"Consulta la API para obtener el código IATA de una ciudad.\"\"\"\n",
    "    url = \"https://www.air-port-codes.com/api/v1/multi\"\n",
    "    headers = {\n",
    "        \"APC-Auth\": \"APY_KEY\",\n",
    "        \"APC-Auth-Secret\": \"APY_SECRET\"\n",
    "    }\n",
    "    params = {\"term\": ciudad, \"limit\": 1}\n",
    "\n",
    "    try:\n",
    "        respuesta = requests.get(url, headers=headers, params=params)\n",
    "        datos = respuesta.json()\n",
    "\n",
    "        if respuesta.status_code == 200 and datos.get(\"airports\"):\n",
    "            return datos[\"airports\"][0][\"iata\"]  # Retornar código IATA\n",
    "        else:\n",
    "            print(f\"⚠ No se encontró IATA para {ciudad}\")\n",
    "            return None\n",
    "\n",
    "    except Exception as e:\n",
    "        print(f\"Error al consultar la API para {ciudad}: {str(e)}\")\n",
    "        return None"
   ]
  },
  {
   "cell_type": "markdown",
   "metadata": {},
   "source": [
    "# **FECHA**"
   ]
  },
  {
   "cell_type": "code",
   "execution_count": null,
   "metadata": {},
   "outputs": [],
   "source": [
    "# Lista de meses en español\n",
    "MESES = {\n",
    "    \"enero\", \"febrero\", \"marzo\", \"abril\", \"mayo\", \"junio\",\n",
    "    \"julio\", \"agosto\", \"septiembre\", \"octubre\", \"noviembre\", \"diciembre\"\n",
    "}\n",
    "\n",
    "def extraer_fechas(texto):\n",
    "    \"\"\"Extrae fechas en formatos como '25 de Agosto' o solo meses.\"\"\"\n",
    "    fechas = []\n",
    "\n",
    "    # 1. Buscar fechas completas con día y mes (ej. '25 de Agosto')\n",
    "    patron_fecha = r\"(\\d{1,2}) de (\" + \"|\".join(MESES) + r\")\"\n",
    "    for match in re.findall(patron_fecha, texto, re.IGNORECASE):\n",
    "        dia, mes = match\n",
    "        fechas.append(f\"{dia} de {mes.capitalize()}\")  # Guardamos con formato correcto\n",
    "\n",
    "    # 2. Buscar solo meses (ej. 'en Septiembre')\n",
    "    for palabra in texto.split():\n",
    "        if palabra.lower() in MESES and palabra.lower() not in [f.split()[-1].lower() for f in fechas]:\n",
    "            fechas.append(palabra.capitalize())  # Guardamos el mes si no estaba ya registrado\n",
    "\n",
    "    return fechas"
   ]
  },
  {
   "cell_type": "markdown",
   "metadata": {},
   "source": [
    "# **CANTIDAD BILLETES**"
   ]
  },
  {
   "cell_type": "code",
   "execution_count": null,
   "metadata": {},
   "outputs": [],
   "source": [
    "def cargar_palabras_a_numeros(archivo_numeros):\n",
    "    palabras_a_numeros = {}\n",
    "\n",
    "    with open(archivo_numeros, \"r\", encoding=\"utf-8\") as f:\n",
    "        for linea in f:\n",
    "            linea = linea.strip()\n",
    "            if not linea:  # Ignorar líneas vacías\n",
    "                continue\n",
    "            # Ajuste para manejar frases de varias palabras entre comillas\n",
    "            match = re.match(r'\"([a-záéíóú\\s]+)\"\\s(\\d+)', linea)\n",
    "            if match:\n",
    "                palabra = match.group(1).lower().strip()  # Captura la frase numérica\n",
    "                numero = int(match.group(2))  # Captura el número\n",
    "                palabras_a_numeros[palabra] = numero\n",
    "            else:\n",
    "                print(f\"Advertencia: línea malformada o vacía ignorada: {linea}\")\n",
    "\n",
    "    return palabras_a_numeros"
   ]
  },
  {
   "cell_type": "code",
   "execution_count": null,
   "metadata": {},
   "outputs": [],
   "source": [
    "def extraer_cantidad_billetes(texto, palabras_a_numeros):\n",
    "    \"\"\"Busca la cantidad de billetes en números o palabras dentro del texto.\"\"\"\n",
    "\n",
    "    # 1: Buscar si hay un número explícito en la frase (ej. \"42 billetes\")\n",
    "    matches = re.findall(r\"(\\d{1,3})\\s*(billetes?|boletos?|pasajes?)\", texto, re.IGNORECASE)\n",
    "\n",
    "    for match in matches:\n",
    "        numero, _ = match\n",
    "        if numero:\n",
    "            return int(numero)  # Si encontramos un número explícito, lo retornamos inmediatamente\n",
    "\n",
    "    # 2: Si no hay número, buscar nombres de números en el texto\n",
    "    for palabra_numero in sorted(palabras_a_numeros.keys(), key=len, reverse=True):\n",
    "        if palabra_numero in texto.lower():\n",
    "            return palabras_a_numeros[palabra_numero]  # Devolver el número correspondiente\n",
    "\n",
    "    # 3: Si no encontramos nada, asumimos 1 billete por defecto\n",
    "    return 1"
   ]
  },
  {
   "cell_type": "markdown",
   "metadata": {},
   "source": [
    "# **Origen, Destino**"
   ]
  },
  {
   "cell_type": "code",
   "execution_count": null,
   "metadata": {},
   "outputs": [],
   "source": [
    "palabras_origen = ['de', 'desde', 'salida', 'billete', 'origen']\n",
    "palabras_destino = ['a', 'para', 'llegada', 'destino', 'hasta']\n",
    "\n",
    "def detectar_origen_destino(texto, lista_ciudades):\n",
    "    \"\"\"\n",
    "    Detecta el origen y destino en una búsqueda de vuelos.\n",
    "\n",
    "    Parámetros:\n",
    "    - texto (str): Frase ingresada por el usuario.\n",
    "    - lista_ciudades (list): Lista de nombres de ciudades.\n",
    "\n",
    "    Retorna:\n",
    "    - origen (str): Ciudad de origen detectada (o None si no se encuentra).\n",
    "    - destino (str): Ciudad de destino detectada (o None si no se encuentra).\n",
    "    \"\"\"\n",
    "    texto = texto.lower()\n",
    "    patron_ciudad = r'\\b(?:' + '|'.join(re.escape(ciudad.lower()) for ciudad in lista_ciudades) + r')\\b'\n",
    "    ciudades_encontradas = re.findall(patron_ciudad, texto)\n",
    "\n",
    "    if not ciudades_encontradas:\n",
    "        return None, None\n",
    "\n",
    "    origen, destino = None, None\n",
    "\n",
    "    for ciudad in ciudades_encontradas:\n",
    "        ciudad_regex = re.escape(ciudad)\n",
    "\n",
    "        # Buscar si hay palabra clave antes de la ciudad\n",
    "        if re.search(r'\\b(' + '|'.join(palabras_origen) + r')\\s+' + ciudad_regex, texto):\n",
    "            origen = ciudad\n",
    "        elif re.search(r'\\b(' + '|'.join(palabras_destino) + r')\\s+' + ciudad_regex, texto):\n",
    "            destino = ciudad\n",
    "\n",
    "    # Si solo hay una ciudad, asumir que es destino\n",
    "    if len(ciudades_encontradas) == 1:\n",
    "        destino = ciudades_encontradas[0]\n",
    "\n",
    "    # Si hay dos ciudades y no se detectaron palabras clave, asumir la primera como origen\n",
    "    elif len(ciudades_encontradas) == 2:\n",
    "        if not origen and not destino:\n",
    "            origen, destino = ciudades_encontradas[0], ciudades_encontradas[1]\n",
    "\n",
    "    return origen, destino"
   ]
  },
  {
   "cell_type": "markdown",
   "metadata": {},
   "source": [
    "# **AEROLINEA**"
   ]
  },
  {
   "cell_type": "code",
   "execution_count": null,
   "metadata": {},
   "outputs": [],
   "source": [
    "def identificar_aerolinea(texto, aerolineas):\n",
    "    # Usamos spaCy para extraer entidades nombradas\n",
    "    doc = nlp(texto)\n",
    "\n",
    "    # Buscar aerolíneas mencionadas usando las entidades de spaCy (nombres propios etiquetados)\n",
    "    aerolineas_spacy = {ent.text for ent in doc.ents if ent.text in aerolineas}\n",
    "\n",
    "    # También buscar aerolíneas usando expresiones regulares\n",
    "    regex_pattern = r'\\b(?:' + '|'.join(map(re.escape, aerolineas)) + r')\\b'\n",
    "    aerolineas_regex = set(re.findall(regex_pattern, texto, re.IGNORECASE))\n",
    "\n",
    "    # Unir los resultados de spaCy y regex\n",
    "    aerolineas_encontradas = list(aerolineas_spacy.union(aerolineas_regex))\n",
    "\n",
    "    return aerolineas_encontradas"
   ]
  }
 ],
 "metadata": {
  "kernelspec": {
   "display_name": "Python 3",
   "language": "python",
   "name": "python3"
  },
  "language_info": {
   "name": "python",
   "version": "3.11.9"
  }
 },
 "nbformat": 4,
 "nbformat_minor": 2
}
