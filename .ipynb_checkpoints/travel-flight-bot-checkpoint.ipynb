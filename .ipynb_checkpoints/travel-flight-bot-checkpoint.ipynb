{
 "cells": [
  {
   "cell_type": "markdown",
   "metadata": {},
   "source": [
    "# **Librerias - Dependencias**"
   ]
  },
  {
   "cell_type": "code",
   "execution_count": null,
   "metadata": {},
   "outputs": [],
   "source": [
    "import json"
   ]
  },
  {
   "cell_type": "markdown",
   "metadata": {},
   "source": [
    "# **CORPUS**"
   ]
  },
  {
   "cell_type": "code",
   "execution_count": null,
   "metadata": {},
   "outputs": [],
   "source": [
    "def cargar_corpus():\n",
    "    \"\"\"Carga el corpus de entrenamiento y separa ciudades/paises de aerolíneas.\"\"\"\n",
    "    with open(archivo_corpus, \"r\", encoding=\"utf-8\") as f:\n",
    "        corpus = json.load(f)\n",
    "\n",
    "    ciudades_paises = set()\n",
    "    aerolineas = set()\n",
    "\n",
    "    for oracion in corpus:\n",
    "        for palabra, etiqueta in oracion:\n",
    "            if etiqueta == \"np000g0\":  # Nombre propio (Ciudad/País)\n",
    "                ciudades_paises.add(palabra)\n",
    "            elif etiqueta == \"npcso00\":  # Entidad (Aerolínea)\n",
    "                aerolineas.add(palabra)\n",
    "\n",
    "    return ciudades_paises, aerolineas"
   ]
  },
  {
   "cell_type": "code",
   "execution_count": null,
   "metadata": {},
   "outputs": [],
   "source": [
    "def cargar_frases(archivo_frases):\n",
    "    with open(archivo_frases, \"r\", encoding=\"utf-8\") as f:\n",
    "    return json.load(f)"
   ]
  },
  {
   "cell_type": "markdown",
   "metadata": {},
   "source": [
    "# **CODIGO IATA**"
   ]
  },
  {
   "cell_type": "code",
   "execution_count": null,
   "metadata": {},
   "outputs": [],
   "source": [
    "def obtener_codigo_iata(ciudad):\n",
    "    \"\"\"Consulta la API para obtener el código IATA de una ciudad.\"\"\"\n",
    "    url = \"https://www.air-port-codes.com/api/v1/multi\"\n",
    "    headers = {\n",
    "        \"APC-Auth\": \"APY_KEY\",\n",
    "        \"APC-Auth-Secret\": \"APY_SECRET\"\n",
    "    }\n",
    "    params = {\"term\": ciudad, \"limit\": 1}\n",
    "\n",
    "    try:\n",
    "        respuesta = requests.get(url, headers=headers, params=params)\n",
    "        datos = respuesta.json()\n",
    "\n",
    "        if respuesta.status_code == 200 and datos.get(\"airports\"):\n",
    "            return datos[\"airports\"][0][\"iata\"]  # Retornar código IATA\n",
    "        else:\n",
    "            print(f\"⚠ No se encontró IATA para {ciudad}\")\n",
    "            return None\n",
    "\n",
    "    except Exception as e:\n",
    "        print(f\"Error al consultar la API para {ciudad}: {str(e)}\")\n",
    "        return None"
   ]
  },
  {
   "cell_type": "markdown",
   "metadata": {},
   "source": [
    "# **FECHA**"
   ]
  },
  {
   "cell_type": "code",
   "execution_count": null,
   "metadata": {},
   "outputs": [],
   "source": [
    "# Lista de meses en español\n",
    "MESES = {\n",
    "    \"enero\", \"febrero\", \"marzo\", \"abril\", \"mayo\", \"junio\",\n",
    "    \"julio\", \"agosto\", \"septiembre\", \"octubre\", \"noviembre\", \"diciembre\"\n",
    "}\n",
    "\n",
    "def extraer_fechas(texto):\n",
    "    \"\"\"Extrae fechas en formatos como '25 de Agosto' o solo meses.\"\"\"\n",
    "    fechas = []\n",
    "\n",
    "    # 1. Buscar fechas completas con día y mes (ej. '25 de Agosto')\n",
    "    patron_fecha = r\"(\\d{1,2}) de (\" + \"|\".join(MESES) + r\")\"\n",
    "    for match in re.findall(patron_fecha, texto, re.IGNORECASE):\n",
    "        dia, mes = match\n",
    "        fechas.append(f\"{dia} de {mes.capitalize()}\")  # Guardamos con formato correcto\n",
    "\n",
    "    # 2. Buscar solo meses (ej. 'en Septiembre')\n",
    "    for palabra in texto.split():\n",
    "        if palabra.lower() in MESES and palabra.lower() not in [f.split()[-1].lower() for f in fechas]:\n",
    "            fechas.append(palabra.capitalize())  # Guardamos el mes si no estaba ya registrado\n",
    "\n",
    "    return fechas"
   ]
  }
 ],
 "metadata": {
  "kernelspec": {
   "display_name": "Python 3",
   "language": "python",
   "name": "python3"
  },
  "language_info": {
   "name": "python",
   "version": "3.11.9"
  }
 },
 "nbformat": 4,
 "nbformat_minor": 2
}
